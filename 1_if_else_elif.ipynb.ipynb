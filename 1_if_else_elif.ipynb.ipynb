{
 "cells": [
  {
   "cell_type": "markdown",
   "metadata": {},
   "source": [
    "### if - else - elif\n",
    "\n",
    "Crie uma função que receba uma idade e retorne a sua faixa etária de acordo com as especificações abaixo:\n",
    "\n",
    "* 0 a 18: menor que 18 anos\n",
    "* 18 a 60: adulto\n",
    "* 60 a 100: idoso (a)\n",
    "* maior que 100: centenário (a)\n",
    "* menor que 0: idade inválida"
   ]
  },
  {
   "cell_type": "code",
   "execution_count": 16,
   "metadata": {},
   "outputs": [],
   "source": [
    "# exemplo de if aninhado\n",
    "\n",
    "def faixa_etaria(idade):\n",
    "\n",
    "    idade = int(idade)\n",
    "    if idade >= 0 and idade < 18:\n",
    "        return 'menor que 18 anos'\n",
    "    else:\n",
    "        if idade >= 18 and idade <60:\n",
    "            return 'adulto'\n",
    "        else:\n",
    "            if idade >= 60 and idade < 100:\n",
    "                   return 'idoso (a)'\n",
    "            else:\n",
    "               if idade >= 100:\n",
    "                    return 'centenário (a)'\n",
    "               else:\n",
    "                   return 'idade inválida'\n",
    "               "
   ]
  },
  {
   "cell_type": "code",
   "execution_count": 17,
   "metadata": {},
   "outputs": [
    {
     "data": {
      "text/plain": [
       "'adulto'"
      ]
     },
     "execution_count": 17,
     "metadata": {},
     "output_type": "execute_result"
    }
   ],
   "source": [
    "faixa_etaria(20)"
   ]
  },
  {
   "cell_type": "code",
   "execution_count": 26,
   "metadata": {},
   "outputs": [],
   "source": [
    "# Reescrevendo os códigos sem if aninhado\n",
    "\n",
    "def faixa_etaria_elif(idade):\n",
    "    idade = int(idade)\n",
    "\n",
    "    if 0 <= idade < 18:\n",
    "        return 'menor que 18 anos'\n",
    "    elif 18 <= idade < 60:\n",
    "        return 'adulto'\n",
    "    elif 60 <= idade <100:\n",
    "        return 'idoso (a)'\n",
    "    elif idade >= 100:\n",
    "        return 'centenário (a)'\n",
    "    else:\n",
    "        return 'idade inválida'\n",
    "\n"
   ]
  },
  {
   "cell_type": "code",
   "execution_count": 31,
   "metadata": {},
   "outputs": [
    {
     "data": {
      "text/plain": [
       "'idade inválida'"
      ]
     },
     "execution_count": 31,
     "metadata": {},
     "output_type": "execute_result"
    }
   ],
   "source": [
    "faixa_etaria_elif(-5)"
   ]
  },
  {
   "cell_type": "code",
   "execution_count": 43,
   "metadata": {},
   "outputs": [],
   "source": [
    "# Reescrevendo o código sem o último else, variável para mensagem no lugar de return\n",
    "\n",
    "def faixa_etaria_elif2(idade):\n",
    "    idade = int(idade)\n",
    "    mensagem = 'idade inválida'\n",
    "\n",
    "    if 0 <= idade < 18:\n",
    "       mensagem = 'menor que 18 anos'\n",
    "    elif 18 <= idade < 60:\n",
    "        mensagem = 'adulto'\n",
    "    elif 60 <= idade <100:\n",
    "        mensagem = 'idoso (a)'\n",
    "    elif idade >= 100:\n",
    "        mensagem = 'centenário (a)'\n",
    "    return mensagem\n",
    "  "
   ]
  },
  {
   "cell_type": "code",
   "execution_count": 46,
   "metadata": {},
   "outputs": [
    {
     "name": "stdout",
     "output_type": "stream",
     "text": [
      "centenário (a)\n"
     ]
    }
   ],
   "source": [
    "print(faixa_etaria_elif2(100))"
   ]
  },
  {
   "cell_type": "code",
   "execution_count": null,
   "metadata": {},
   "outputs": [],
   "source": []
  }
 ],
 "metadata": {
  "kernelspec": {
   "display_name": "base",
   "language": "python",
   "name": "python3"
  },
  "language_info": {
   "codemirror_mode": {
    "name": "ipython",
    "version": 3
   },
   "file_extension": ".py",
   "mimetype": "text/x-python",
   "name": "python",
   "nbconvert_exporter": "python",
   "pygments_lexer": "ipython3",
   "version": "3.11.5"
  }
 },
 "nbformat": 4,
 "nbformat_minor": 2
}
